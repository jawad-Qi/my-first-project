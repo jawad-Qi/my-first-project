{
 "cells": [
  {
   "cell_type": "markdown",
   "id": "41b8ac7a-ccde-4962-9416-ac4bb6ed1703",
   "metadata": {},
   "source": [
    "## Partie 1 "
   ]
  },
  {
   "cell_type": "markdown",
   "id": "d6758e91-cf53-4c7a-a681-bab73ccc2055",
   "metadata": {},
   "source": [
    "#### Lire les données du fichier CSV ‘dataset-sell4all.csv’ qui contient les données démographiques et de dépenses des utilisateurs"
   ]
  },
  {
   "cell_type": "code",
   "execution_count": 1,
   "id": "99655dfb-5a15-4ae8-99ad-908c2587be0b",
   "metadata": {},
   "outputs": [],
   "source": [
    "import pandas as pd\n",
    "import matplotlib.pyplot as plt\n",
    "df=pd.read_excel(r'C:\\Users\\Admin\\Documents\\data-sell4all.xlsx')"
   ]
  },
  {
   "cell_type": "markdown",
   "id": "56ab5990-5cee-49a0-9c40-dc25efa00539",
   "metadata": {
    "jp-MarkdownHeadingCollapsed": true
   },
   "source": [
    "####  des informations sur les 5 premières lignes du fichier CSV"
   ]
  },
  {
   "cell_type": "code",
   "execution_count": 2,
   "id": "c41309a8-731b-43ed-ba77-35dfc700b8e0",
   "metadata": {},
   "outputs": [
    {
     "data": {
      "text/html": [
       "<div>\n",
       "<style scoped>\n",
       "    .dataframe tbody tr th:only-of-type {\n",
       "        vertical-align: middle;\n",
       "    }\n",
       "\n",
       "    .dataframe tbody tr th {\n",
       "        vertical-align: top;\n",
       "    }\n",
       "\n",
       "    .dataframe thead th {\n",
       "        text-align: right;\n",
       "    }\n",
       "</style>\n",
       "<table border=\"1\" class=\"dataframe\">\n",
       "  <thead>\n",
       "    <tr style=\"text-align: right;\">\n",
       "      <th></th>\n",
       "      <th>Pays</th>\n",
       "      <th>Âge</th>\n",
       "      <th>Genre</th>\n",
       "      <th>Dépenses des clients</th>\n",
       "    </tr>\n",
       "  </thead>\n",
       "  <tbody>\n",
       "    <tr>\n",
       "      <th>0</th>\n",
       "      <td>France</td>\n",
       "      <td>32</td>\n",
       "      <td>Female</td>\n",
       "      <td>150.50</td>\n",
       "    </tr>\n",
       "    <tr>\n",
       "      <th>1</th>\n",
       "      <td>Germany</td>\n",
       "      <td>45</td>\n",
       "      <td>Male</td>\n",
       "      <td>200.75</td>\n",
       "    </tr>\n",
       "    <tr>\n",
       "      <th>2</th>\n",
       "      <td>Spain</td>\n",
       "      <td>28</td>\n",
       "      <td>Female</td>\n",
       "      <td>75.25</td>\n",
       "    </tr>\n",
       "    <tr>\n",
       "      <th>3</th>\n",
       "      <td>Italy</td>\n",
       "      <td>39</td>\n",
       "      <td>Male</td>\n",
       "      <td>180.00</td>\n",
       "    </tr>\n",
       "    <tr>\n",
       "      <th>4</th>\n",
       "      <td>UK</td>\n",
       "      <td>52</td>\n",
       "      <td>Female</td>\n",
       "      <td>250.30</td>\n",
       "    </tr>\n",
       "  </tbody>\n",
       "</table>\n",
       "</div>"
      ],
      "text/plain": [
       "      Pays Âge   Genre Dépenses des clients\n",
       "0   France  32  Female               150.50\n",
       "1  Germany  45    Male               200.75\n",
       "2    Spain  28  Female                75.25\n",
       "3    Italy  39    Male               180.00\n",
       "4       UK  52  Female               250.30"
      ]
     },
     "execution_count": 2,
     "metadata": {},
     "output_type": "execute_result"
    }
   ],
   "source": [
    "df.head()"
   ]
  },
  {
   "cell_type": "markdown",
   "id": "d62d198f-b5b7-4b4f-8adb-adc64d39d1d6",
   "metadata": {
    "jp-MarkdownHeadingCollapsed": true
   },
   "source": [
    "####  un résumé technique des données disponibles dans le fichier CSV avec desinformations telles que "
   ]
  },
  {
   "cell_type": "markdown",
   "id": "cc9a8e16-fc30-4ba4-a21f-ed48df9cfbe7",
   "metadata": {},
   "source": [
    "##### *  le nombre de lignes"
   ]
  },
  {
   "cell_type": "code",
   "execution_count": 3,
   "id": "7137401b-4cf7-4569-87bc-59e128762b24",
   "metadata": {},
   "outputs": [
    {
     "name": "stdout",
     "output_type": "stream",
     "text": [
      "Nombre de lignes : 65\n"
     ]
    }
   ],
   "source": [
    "nombre_lignes = len(df)\n",
    "print(f\"Nombre de lignes : {nombre_lignes}\")"
   ]
  },
  {
   "cell_type": "markdown",
   "id": "b28972b4-bdde-4df7-84a7-b3f3c12a4a18",
   "metadata": {},
   "source": [
    "##### *  le nombre de colonnes"
   ]
  },
  {
   "cell_type": "code",
   "execution_count": 4,
   "id": "cd8de7ec-e3c7-4085-9cec-01b4fe3ddd0f",
   "metadata": {},
   "outputs": [
    {
     "name": "stdout",
     "output_type": "stream",
     "text": [
      "Nombre de colonnes : 4\n"
     ]
    }
   ],
   "source": [
    "nombre_colonnes = len(df.columns)\n",
    "print(f\"Nombre de colonnes : {nombre_colonnes}\")"
   ]
  },
  {
   "cell_type": "markdown",
   "id": "ee06f955-5004-46a6-b576-3d5faa3abdff",
   "metadata": {},
   "source": [
    "##### *  les types de données des colonnes"
   ]
  },
  {
   "cell_type": "code",
   "execution_count": 5,
   "id": "5b823a24-09d8-4ea9-a6e3-abfdb72b5732",
   "metadata": {},
   "outputs": [
    {
     "name": "stdout",
     "output_type": "stream",
     "text": [
      "Pays                    object\n",
      "Âge                     object\n",
      "Genre                   object\n",
      "Dépenses des clients    object\n",
      "dtype: object\n"
     ]
    }
   ],
   "source": [
    "types_donnees = df.dtypes\n",
    "print(types_donnees)"
   ]
  },
  {
   "cell_type": "markdown",
   "id": "686a40f4-b0f3-4899-939d-b4bd8e6fc847",
   "metadata": {},
   "source": [
    "#### Explication du Résumé Technique\n",
    "\n",
    "- **Nombre de lignes** : Le résumé affiche le nombre total de lignes dans le DataFrame, correspondant au nombre d'enregistrements dans le fichier CSV.\n",
    "- **Colonnes** : Les noms des colonnes sont listés, représentant les différentes variables présentes dans les données.\n",
    "- **Types de données** : Les types de données de chaque colonne sont indiqués (`int64` pour les entiers, `float64` pour les nombres à virgule flottante, `object` pour les chaînes de caractères). Cela aide à comprendre la nature des variables pour choisir les bonnes méthodes d'analyse.\n",
    "- **Valeurs non nulles** : Le résumé montre également le nombre de valeurs non nulles dans chaque colonne, permettant de repérer les colonnes avec des valeurs manquantes."
   ]
  },
  {
   "cell_type": "markdown",
   "id": "fda001f1-756b-4e23-8848-1c49fbd913ab",
   "metadata": {
    "jp-MarkdownHeadingCollapsed": true
   },
   "source": [
    "#### Calculer la médiane et la moyenne des colonnes"
   ]
  },
  {
   "cell_type": "code",
   "execution_count": null,
   "id": "5ca0c6f1-6072-4432-9b6c-2102816bb96e",
   "metadata": {},
   "outputs": [],
   "source": []
  },
  {
   "cell_type": "markdown",
   "id": "d480a276-5887-45ba-84b0-9064b13d99c0",
   "metadata": {
    "jp-MarkdownHeadingCollapsed": true
   },
   "source": [
    "## Partie 2 "
   ]
  },
  {
   "cell_type": "markdown",
   "id": "d7984529-3f57-4192-904b-b08cd0d5fdbc",
   "metadata": {},
   "source": [
    "###  Explication du code"
   ]
  },
  {
   "cell_type": "code",
   "execution_count": 15,
   "id": "2fa2fe7b-c9ca-4d1e-964d-3838aa91baf9",
   "metadata": {},
   "outputs": [
    {
     "data": {
      "text/html": [
       "<div>\n",
       "<style scoped>\n",
       "    .dataframe tbody tr th:only-of-type {\n",
       "        vertical-align: middle;\n",
       "    }\n",
       "\n",
       "    .dataframe tbody tr th {\n",
       "        vertical-align: top;\n",
       "    }\n",
       "\n",
       "    .dataframe thead th {\n",
       "        text-align: right;\n",
       "    }\n",
       "</style>\n",
       "<table border=\"1\" class=\"dataframe\">\n",
       "  <thead>\n",
       "    <tr style=\"text-align: right;\">\n",
       "      <th></th>\n",
       "      <th>Pays</th>\n",
       "      <th>Age</th>\n",
       "      <th>Genre</th>\n",
       "      <th>Dépenses des clients</th>\n",
       "    </tr>\n",
       "  </thead>\n",
       "  <tbody>\n",
       "    <tr>\n",
       "      <th>0</th>\n",
       "      <td>France</td>\n",
       "      <td>32</td>\n",
       "      <td>Female</td>\n",
       "      <td>150.50</td>\n",
       "    </tr>\n",
       "    <tr>\n",
       "      <th>1</th>\n",
       "      <td>Germany</td>\n",
       "      <td>45</td>\n",
       "      <td>Male</td>\n",
       "      <td>200.75</td>\n",
       "    </tr>\n",
       "    <tr>\n",
       "      <th>2</th>\n",
       "      <td>Spain</td>\n",
       "      <td>28</td>\n",
       "      <td>Female</td>\n",
       "      <td>75.25</td>\n",
       "    </tr>\n",
       "    <tr>\n",
       "      <th>3</th>\n",
       "      <td>Italy</td>\n",
       "      <td>39</td>\n",
       "      <td>Male</td>\n",
       "      <td>180.00</td>\n",
       "    </tr>\n",
       "    <tr>\n",
       "      <th>4</th>\n",
       "      <td>UK</td>\n",
       "      <td>52</td>\n",
       "      <td>Female</td>\n",
       "      <td>250.30</td>\n",
       "    </tr>\n",
       "    <tr>\n",
       "      <th>...</th>\n",
       "      <td>...</td>\n",
       "      <td>...</td>\n",
       "      <td>...</td>\n",
       "      <td>...</td>\n",
       "    </tr>\n",
       "    <tr>\n",
       "      <th>60</th>\n",
       "      <td>Digital Realm</td>\n",
       "      <td>NaN</td>\n",
       "      <td>AI</td>\n",
       "      <td>1010101.01</td>\n",
       "    </tr>\n",
       "    <tr>\n",
       "      <th>61</th>\n",
       "      <td>Multiverse</td>\n",
       "      <td>∞</td>\n",
       "      <td>Non-Binary</td>\n",
       "      <td>π</td>\n",
       "    </tr>\n",
       "    <tr>\n",
       "      <th>62</th>\n",
       "      <td>Error</td>\n",
       "      <td>NaN</td>\n",
       "      <td>404</td>\n",
       "      <td>NaN</td>\n",
       "    </tr>\n",
       "    <tr>\n",
       "      <th>63</th>\n",
       "      <td>Greece, Italy</td>\n",
       "      <td>25;30</td>\n",
       "      <td>Male;Female</td>\n",
       "      <td>100+200</td>\n",
       "    </tr>\n",
       "    <tr>\n",
       "      <th>64</th>\n",
       "      <td>United  Kingdom</td>\n",
       "      <td>Not Available</td>\n",
       "      <td>Other</td>\n",
       "      <td>Priceless</td>\n",
       "    </tr>\n",
       "  </tbody>\n",
       "</table>\n",
       "<p>65 rows × 4 columns</p>\n",
       "</div>"
      ],
      "text/plain": [
       "                 Pays           Age         Genre Dépenses des clients\n",
       "0              France             32       Female               150.50\n",
       "1             Germany             45         Male               200.75\n",
       "2               Spain             28       Female                75.25\n",
       "3               Italy             39         Male               180.00\n",
       "4                  UK             52       Female               250.30\n",
       "..                ...            ...          ...                  ...\n",
       "60      Digital Realm            NaN           AI           1010101.01\n",
       "61         Multiverse              ∞   Non-Binary                    π\n",
       "62              Error            NaN          404                  NaN\n",
       "63      Greece, Italy          25;30  Male;Female              100+200\n",
       "64   United  Kingdom   Not Available        Other            Priceless\n",
       "\n",
       "[65 rows x 4 columns]"
      ]
     },
     "execution_count": 15,
     "metadata": {},
     "output_type": "execute_result"
    }
   ],
   "source": [
    "import pandas as pd\n",
    "import seaborn as sns\n",
    "import matplotlib.pyplot as plt\n",
    "# Lire les données du fichier CSV\n",
    "df=pd.read_excel(r'C:\\Users\\Admin\\Downloads\\data-sell4all.xlsx')\n",
    "df"
   ]
  },
  {
   "cell_type": "markdown",
   "id": "7ac85117-17ea-47ed-a8bf-e8b9a1f66ec5",
   "metadata": {},
   "source": [
    "#### 1: Supprimer les lignes avec des valeurs nulles et  les doublons"
   ]
  },
  {
   "cell_type": "code",
   "execution_count": 16,
   "id": "91f5e5dd-4a20-4efc-b6f0-b9d4fecbefe6",
   "metadata": {},
   "outputs": [
    {
     "name": "stdout",
     "output_type": "stream",
     "text": [
      "         Pays  Age       Genre Dépenses des clients\n",
      "0      France    32     Female               150.50\n",
      "1     Germany    45       Male               200.75\n",
      "2       Spain    28     Female                75.25\n",
      "3       Italy    39       Male               180.00\n",
      "4          UK    52     Female               250.30\n",
      "5      France    22       Male                90.00\n",
      "6     Germany    36     Female               175.50\n",
      "7       Spain    41       Male               120.75\n",
      "8       Italy    29     Female                95.25\n",
      "9          UK    48       Male               220.00\n",
      "10     France    35     Female               160.25\n",
      "11    Germany    27       Male                85.50\n",
      "12      Spain    50     Female               190.75\n",
      "13      Italy    33       Male               140.00\n",
      "14         UK    44     Female               210.50\n",
      "15     France    31       Male               130.25\n",
      "16    Germany    38     Female               170.00\n",
      "17      Spain    26       Male                 5.75\n",
      "18      Italy    47     Female               200.25\n",
      "19         UK    30       Male               110.50\n",
      "21    Germany    29       Male               100.25\n",
      "22      Spain    55     Female               230.00\n",
      "23      Italy    36       Male               150.75\n",
      "24         UK    25     Female                80.50\n",
      "25     France    49       Male               215.25\n",
      "26    Germany    34     Female               145.00\n",
      "27      Spain    40       Male               175.50\n",
      "28      Italy    23     Female                70.25\n",
      "29         UK    51       Male               240.75\n",
      "30     France    37     Female               165.00\n",
      "31    Germany    43       Male               195.25\n",
      "32      Spain    28     Female                85.75\n",
      "33      Italy    46       Male               205.50\n",
      "34         UK    33     Female               135.25\n",
      "35     France    30       Male               120.00\n",
      "36    Germany    52     Female               225.75\n",
      "37      Spain    35       Male               155.50\n",
      "38      Italy    27     Female                90.25\n",
      "39         UK    48       Male               210.00\n",
      "40     France    39     Female               170.25\n",
      "41    Germany    31       Male               125.75\n",
      "42      Spain    44     Female               190.00\n",
      "43      Italy    25       Male                75.50\n",
      "44         UK    50     Female               220.25\n",
      "46    Germany    41     Female               185.00\n",
      "47      Spain    29       Male               105.25\n",
      "48      Italy    53     Female               235.50\n",
      "49         UK    32       Male               140.25\n",
      "50        USA    28     Female               180.00\n",
      "52  Australia    39     Female               210.50\n",
      "53      Japan    33       Male               145.75\n",
      "54     Brazil    47     Female               195.25\n",
      "57   Atlantis  1000  Merperson               500.00\n"
     ]
    }
   ],
   "source": [
    "df2=df_cleaned = df.drop_duplicates()\n",
    "df2=df_cleaned = df_cleaned.dropna()\n",
    "df2=df2.drop([55,56,58,59,61,63,64])\n",
    "print(df2)"
   ]
  },
  {
   "cell_type": "markdown",
   "id": "2bb30335-674e-43e4-a7fe-60445da27fac",
   "metadata": {},
   "source": [
    "#### 2: Vérifier et convertir les types de données si nécessaire"
   ]
  },
  {
   "cell_type": "markdown",
   "id": "1b58469a-c57f-40fc-bb2f-b243e508e05c",
   "metadata": {},
   "source": [
    "##### - Assurez-vous que 'Pays' est de type chaîne"
   ]
  },
  {
   "cell_type": "code",
   "execution_count": 17,
   "id": "01e6504b-29ec-47a3-8a02-a101ce7165a0",
   "metadata": {},
   "outputs": [],
   "source": [
    "df2['Pays'] = df2['Pays'].astype(str)"
   ]
  },
  {
   "cell_type": "markdown",
   "id": "9bdbff55-0cc3-4ea0-bcb9-48fa72bb354a",
   "metadata": {},
   "source": [
    "##### - Convertir en numérique"
   ]
  },
  {
   "cell_type": "code",
   "execution_count": 18,
   "id": "26233a74-7c6e-4243-820d-374d9436c54c",
   "metadata": {},
   "outputs": [],
   "source": [
    "df2['Dépenses des clients'] = pd.to_numeric(df2['Dépenses des clients'], errors='coerce')"
   ]
  },
  {
   "cell_type": "markdown",
   "id": "2250869e-e497-4176-97a8-4dc6686a1995",
   "metadata": {},
   "source": [
    "#### 3: Calculer les dépenses totales par pays"
   ]
  },
  {
   "cell_type": "code",
   "execution_count": 19,
   "id": "97bc13f1-2e5e-48c2-b09f-2bcb1b8f1ffc",
   "metadata": {},
   "outputs": [],
   "source": [
    "expenses_by_country = df2.groupby('Pays')['Dépenses des clients'].sum().reset_index()"
   ]
  },
  {
   "cell_type": "markdown",
   "id": "abc82e46-be10-4a22-b3bf-9acbb285896e",
   "metadata": {},
   "source": [
    "###  une visualisation des données du graphique à barres qui montre les dépensesdes clients par pays"
   ]
  },
  {
   "cell_type": "code",
   "execution_count": 20,
   "id": "eb442ac2-d9e0-4b0f-8ca9-e5d3d16fce71",
   "metadata": {},
   "outputs": [
    {
     "data": {
      "image/png": "[encoded data removed]",
      "text/plain": [
       "<Figure size 1000x600 with 1 Axes>"
      ]
     },
     "metadata": {},
     "output_type": "display_data"
    }
   ],
   "source": [
    "plt.figure(figsize=(10, 6))\n",
    "sns.barplot(x='Pays', y='Dépenses des clients', data=expenses_by_country)\n",
    "plt.title('Dépenses des clients par pays')\n",
    "plt.xlabel('Pays')\n",
    "plt.ylabel('Dépenses des clients (en €)')\n",
    "plt.xticks(rotation=45)\n",
    "plt.tight_layout()\n",
    "plt.show()"
   ]
  },
  {
   "cell_type": "markdown",
   "id": "1c3f33eb-3855-400f-8a00-983ccef80b77",
   "metadata": {},
   "source": [
    "### Filtrer les données pour conserver uniquement les lignes avec des dépenses de 10 € ou plus"
   ]
  },
  {
   "cell_type": "code",
   "execution_count": 21,
   "id": "dd1b95af-c27b-4489-99f2-c5315f91a773",
   "metadata": {},
   "outputs": [],
   "source": [
    "df2_cleaned = df2[df2['Dépenses des clients'] >= 10].copy()"
   ]
  },
  {
   "cell_type": "markdown",
   "id": "15a6a728-8c70-4885-ac8e-7af2dc5c8f21",
   "metadata": {},
   "source": [
    "### supprimer toutes les lignes qui apparaissent plus d’une fois dans les données"
   ]
  },
  {
   "cell_type": "code",
   "execution_count": 22,
   "id": "d14967c5-c5aa-4f7c-8fe4-19753f8af535",
   "metadata": {},
   "outputs": [
    {
     "name": "stdout",
     "output_type": "stream",
     "text": [
      "         Pays  Age       Genre  Dépenses des clients\n",
      "0      France    32     Female                150.50\n",
      "1     Germany    45       Male                200.75\n",
      "2       Spain    28     Female                 75.25\n",
      "3       Italy    39       Male                180.00\n",
      "4          UK    52     Female                250.30\n",
      "5      France    22       Male                 90.00\n",
      "6     Germany    36     Female                175.50\n",
      "7       Spain    41       Male                120.75\n",
      "8       Italy    29     Female                 95.25\n",
      "9          UK    48       Male                220.00\n",
      "10     France    35     Female                160.25\n",
      "11    Germany    27       Male                 85.50\n",
      "12      Spain    50     Female                190.75\n",
      "13      Italy    33       Male                140.00\n",
      "14         UK    44     Female                210.50\n",
      "15     France    31       Male                130.25\n",
      "16    Germany    38     Female                170.00\n",
      "18      Italy    47     Female                200.25\n",
      "19         UK    30       Male                110.50\n",
      "21    Germany    29       Male                100.25\n",
      "22      Spain    55     Female                230.00\n",
      "23      Italy    36       Male                150.75\n",
      "24         UK    25     Female                 80.50\n",
      "25     France    49       Male                215.25\n",
      "26    Germany    34     Female                145.00\n",
      "27      Spain    40       Male                175.50\n",
      "28      Italy    23     Female                 70.25\n",
      "29         UK    51       Male                240.75\n",
      "30     France    37     Female                165.00\n",
      "31    Germany    43       Male                195.25\n",
      "32      Spain    28     Female                 85.75\n",
      "33      Italy    46       Male                205.50\n",
      "34         UK    33     Female                135.25\n",
      "35     France    30       Male                120.00\n",
      "36    Germany    52     Female                225.75\n",
      "37      Spain    35       Male                155.50\n",
      "38      Italy    27     Female                 90.25\n",
      "39         UK    48       Male                210.00\n",
      "40     France    39     Female                170.25\n",
      "41    Germany    31       Male                125.75\n",
      "42      Spain    44     Female                190.00\n",
      "43      Italy    25       Male                 75.50\n",
      "44         UK    50     Female                220.25\n",
      "46    Germany    41     Female                185.00\n",
      "47      Spain    29       Male                105.25\n",
      "48      Italy    53     Female                235.50\n",
      "49         UK    32       Male                140.25\n",
      "50        USA    28     Female                180.00\n",
      "52  Australia    39     Female                210.50\n",
      "53      Japan    33       Male                145.75\n",
      "54     Brazil    47     Female                195.25\n",
      "57   Atlantis  1000  Merperson                500.00\n"
     ]
    }
   ],
   "source": [
    "df2_cleaned = df2_cleaned.drop_duplicates()\n",
    "print(df2_cleaned )"
   ]
  },
  {
   "cell_type": "markdown",
   "id": "9006a449-ea24-4245-b871-d77a9af2958b",
   "metadata": {},
   "source": [
    "###  les données nettoyées dans un nouveau fichier CSV (df3)"
   ]
  },
  {
   "cell_type": "code",
   "execution_count": 23,
   "id": "02b0f1d5-875b-4624-951e-e1533efb8de3",
   "metadata": {},
   "outputs": [
    {
     "name": "stdout",
     "output_type": "stream",
     "text": [
      "         Pays  Age       Genre  Dépenses des clients\n",
      "0      France    32     Female                150.50\n",
      "1     Germany    45       Male                200.75\n",
      "2       Spain    28     Female                 75.25\n",
      "3       Italy    39       Male                180.00\n",
      "4          UK    52     Female                250.30\n",
      "5      France    22       Male                 90.00\n",
      "6     Germany    36     Female                175.50\n",
      "7       Spain    41       Male                120.75\n",
      "8       Italy    29     Female                 95.25\n",
      "9          UK    48       Male                220.00\n",
      "10     France    35     Female                160.25\n",
      "11    Germany    27       Male                 85.50\n",
      "12      Spain    50     Female                190.75\n",
      "13      Italy    33       Male                140.00\n",
      "14         UK    44     Female                210.50\n",
      "15     France    31       Male                130.25\n",
      "16    Germany    38     Female                170.00\n",
      "18      Italy    47     Female                200.25\n",
      "19         UK    30       Male                110.50\n",
      "21    Germany    29       Male                100.25\n",
      "22      Spain    55     Female                230.00\n",
      "23      Italy    36       Male                150.75\n",
      "24         UK    25     Female                 80.50\n",
      "25     France    49       Male                215.25\n",
      "26    Germany    34     Female                145.00\n",
      "27      Spain    40       Male                175.50\n",
      "28      Italy    23     Female                 70.25\n",
      "29         UK    51       Male                240.75\n",
      "30     France    37     Female                165.00\n",
      "31    Germany    43       Male                195.25\n",
      "32      Spain    28     Female                 85.75\n",
      "33      Italy    46       Male                205.50\n",
      "34         UK    33     Female                135.25\n",
      "35     France    30       Male                120.00\n",
      "36    Germany    52     Female                225.75\n",
      "37      Spain    35       Male                155.50\n",
      "38      Italy    27     Female                 90.25\n",
      "39         UK    48       Male                210.00\n",
      "40     France    39     Female                170.25\n",
      "41    Germany    31       Male                125.75\n",
      "42      Spain    44     Female                190.00\n",
      "43      Italy    25       Male                 75.50\n",
      "44         UK    50     Female                220.25\n",
      "46    Germany    41     Female                185.00\n",
      "47      Spain    29       Male                105.25\n",
      "48      Italy    53     Female                235.50\n",
      "49         UK    32       Male                140.25\n",
      "50        USA    28     Female                180.00\n",
      "52  Australia    39     Female                210.50\n",
      "53      Japan    33       Male                145.75\n",
      "54     Brazil    47     Female                195.25\n",
      "57   Atlantis  1000  Merperson                500.00\n"
     ]
    }
   ],
   "source": [
    "df3 = df2_cleaned.drop_duplicates()\n",
    "print(df3 )"
   ]
  }
 ],
 "metadata": {
  "kernelspec": {
   "display_name": "Python 3 (ipykernel)",
   "language": "python",
   "name": "python3"
  },
  "language_info": {
   "codemirror_mode": {
    "name": "ipython",
    "version": 3
   },
   "file_extension": ".py",
   "mimetype": "text/x-python",
   "name": "python",
   "nbconvert_exporter": "python",
   "pygments_lexer": "ipython3",
   "version": "3.12.4"
  }
 },
 "nbformat": 4,
 "nbformat_minor": 5
}
